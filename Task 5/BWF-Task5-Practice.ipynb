{
 "cells": [
  {
   "cell_type": "markdown",
   "id": "d5354a8d-2d7b-4f0a-9ee9-89c91ec64cb1",
   "metadata": {},
   "source": [
    "## The Print Function"
   ]
  },
  {
   "cell_type": "code",
   "execution_count": 20,
   "id": "31d7d112-5f9b-4a85-80a6-37323021d5f7",
   "metadata": {},
   "outputs": [
    {
     "name": "stdout",
     "output_type": "stream",
     "text": [
      "Hello World\n"
     ]
    }
   ],
   "source": [
    "print('Hello World')"
   ]
  },
  {
   "cell_type": "markdown",
   "id": "ce7a0ee2-557c-43b4-8f8f-af78ece42d2a",
   "metadata": {},
   "source": [
    "## Python Lists"
   ]
  },
  {
   "cell_type": "code",
   "execution_count": 21,
   "id": "d0e6ff2b-7a0e-46c6-a617-bdb19b93d7f9",
   "metadata": {},
   "outputs": [],
   "source": [
    "b = [1, 2, 3, 4, 5]"
   ]
  },
  {
   "cell_type": "code",
   "execution_count": 22,
   "id": "79db787f-2519-4db6-92bc-93b47a5bad43",
   "metadata": {},
   "outputs": [
    {
     "data": {
      "text/plain": [
       "[1, 2, 3, 4, 5]"
      ]
     },
     "execution_count": 22,
     "metadata": {},
     "output_type": "execute_result"
    }
   ],
   "source": [
    "b"
   ]
  },
  {
   "cell_type": "markdown",
   "id": "6e346484-2cd7-4bc7-9284-48c2bd884e79",
   "metadata": {},
   "source": [
    "## Question marks after a variable gives us more information about it"
   ]
  },
  {
   "cell_type": "code",
   "execution_count": 23,
   "id": "5ff95182-85f0-441b-80f2-89e93d1caec1",
   "metadata": {},
   "outputs": [
    {
     "data": {
      "text/plain": [
       "\u001b[1;31mType:\u001b[0m        list\n",
       "\u001b[1;31mString form:\u001b[0m [1, 2, 3, 4, 5]\n",
       "\u001b[1;31mLength:\u001b[0m      5\n",
       "\u001b[1;31mDocstring:\u001b[0m  \n",
       "Built-in mutable sequence.\n",
       "\n",
       "If no argument is given, the constructor creates a new empty list.\n",
       "The argument must be an iterable if specified."
      ]
     },
     "metadata": {},
     "output_type": "display_data"
    }
   ],
   "source": [
    "b?"
   ]
  },
  {
   "cell_type": "markdown",
   "id": "8ab3e7df-133d-4595-bf10-693c819dbbd0",
   "metadata": {},
   "source": [
    "## Python Functions"
   ]
  },
  {
   "cell_type": "code",
   "execution_count": 24,
   "id": "a19c6a2b-d693-49cf-a03d-60d0adf60a17",
   "metadata": {},
   "outputs": [],
   "source": [
    "def sum(a, b):\n",
    "    return a+b"
   ]
  },
  {
   "cell_type": "code",
   "execution_count": 25,
   "id": "e4f81351-8035-4d35-9934-767177530415",
   "metadata": {},
   "outputs": [
    {
     "data": {
      "text/plain": [
       "5"
      ]
     },
     "execution_count": 25,
     "metadata": {},
     "output_type": "execute_result"
    }
   ],
   "source": [
    "sum(2, 3)"
   ]
  },
  {
   "cell_type": "code",
   "execution_count": 26,
   "id": "abcaccf9-fc42-4b0a-8f37-36ad57a021e0",
   "metadata": {},
   "outputs": [
    {
     "data": {
      "text/plain": [
       "\u001b[1;31mSignature:\u001b[0m \u001b[0msum\u001b[0m\u001b[1;33m(\u001b[0m\u001b[0ma\u001b[0m\u001b[1;33m,\u001b[0m \u001b[0mb\u001b[0m\u001b[1;33m)\u001b[0m\u001b[1;33m\u001b[0m\u001b[1;33m\u001b[0m\u001b[0m\n",
       "\u001b[1;31mDocstring:\u001b[0m <no docstring>\n",
       "\u001b[1;31mFile:\u001b[0m      c:\\users\\pmls\\appdata\\local\\temp\\ipykernel_2496\\2481525709.py\n",
       "\u001b[1;31mType:\u001b[0m      function"
      ]
     },
     "metadata": {},
     "output_type": "display_data"
    }
   ],
   "source": [
    "sum?"
   ]
  },
  {
   "cell_type": "markdown",
   "id": "a0aecd24-15f5-40f3-8489-c764c502d667",
   "metadata": {},
   "source": [
    "## Comments in python"
   ]
  },
  {
   "cell_type": "code",
   "execution_count": 27,
   "id": "f2596e06-170a-4fef-b166-371e1aeb83b4",
   "metadata": {},
   "outputs": [
    {
     "data": {
      "text/plain": [
       "3"
      ]
     },
     "execution_count": 27,
     "metadata": {},
     "output_type": "execute_result"
    }
   ],
   "source": [
    "# THis is a function that adds two numbers\n",
    "sum(1, 2)"
   ]
  },
  {
   "cell_type": "markdown",
   "id": "160c5903-16d0-4bc6-a7c9-2e7cf4dc0da2",
   "metadata": {},
   "source": [
    "## Appending elements to a list"
   ]
  },
  {
   "cell_type": "code",
   "execution_count": 28,
   "id": "d16ab3b6-d608-4bae-976e-20f71322101e",
   "metadata": {},
   "outputs": [],
   "source": [
    "list = [1, 2, 3]"
   ]
  },
  {
   "cell_type": "markdown",
   "id": "d0f512c0-2b23-4f84-b9ad-889e182cac21",
   "metadata": {},
   "source": [
    "## Now add the number 4 to the list"
   ]
  },
  {
   "cell_type": "code",
   "execution_count": 29,
   "id": "ac2aa938-42ea-4d5d-a207-7ad6ff11f20e",
   "metadata": {},
   "outputs": [],
   "source": [
    "list.append(4)"
   ]
  },
  {
   "cell_type": "code",
   "execution_count": 30,
   "id": "14ed21ab-0edf-491c-8eb8-76bb74d3e97f",
   "metadata": {},
   "outputs": [
    {
     "data": {
      "text/plain": [
       "[1, 2, 3, 4]"
      ]
     },
     "execution_count": 30,
     "metadata": {},
     "output_type": "execute_result"
    }
   ],
   "source": [
    "list"
   ]
  },
  {
   "cell_type": "code",
   "execution_count": null,
   "id": "47df0cba-e4b3-47b8-884e-8f6c950e5f06",
   "metadata": {},
   "outputs": [],
   "source": []
  }
 ],
 "metadata": {
  "kernelspec": {
   "display_name": "Python 3 (ipykernel)",
   "language": "python",
   "name": "python3"
  },
  "language_info": {
   "codemirror_mode": {
    "name": "ipython",
    "version": 3
   },
   "file_extension": ".py",
   "mimetype": "text/x-python",
   "name": "python",
   "nbconvert_exporter": "python",
   "pygments_lexer": "ipython3",
   "version": "3.12.4"
  }
 },
 "nbformat": 4,
 "nbformat_minor": 5
}
