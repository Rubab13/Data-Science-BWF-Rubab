{
 "cells": [
  {
   "cell_type": "markdown",
   "id": "29bd6e91-774e-4d0a-b1a0-455106327275",
   "metadata": {},
   "source": [
    "## Classes in python"
   ]
  },
  {
   "cell_type": "code",
   "execution_count": 1,
   "id": "a87b9bee-4488-4b2c-ad07-3d329057ef2d",
   "metadata": {},
   "outputs": [],
   "source": [
    "class Human:\n",
    "    name = \"Rubab\""
   ]
  },
  {
   "cell_type": "markdown",
   "id": "6f3d9316-511a-4ff2-bf5b-ec7f8c3cce48",
   "metadata": {},
   "source": [
    "This is our class Human, with a property name age."
   ]
  },
  {
   "cell_type": "markdown",
   "id": "e47b4a76-3acf-4e3e-bb91-cb0a002ed789",
   "metadata": {},
   "source": [
    "## If we want to make an object of this class."
   ]
  },
  {
   "cell_type": "code",
   "execution_count": 2,
   "id": "c542aa74-2b20-46f2-a084-e741e2bd56a9",
   "metadata": {},
   "outputs": [],
   "source": [
    "object = Human()"
   ]
  },
  {
   "cell_type": "code",
   "execution_count": 3,
   "id": "819cb22b-a396-45b4-9677-fe28622b1220",
   "metadata": {},
   "outputs": [
    {
     "data": {
      "text/plain": [
       "<__main__.Human at 0x229d6d6b380>"
      ]
     },
     "execution_count": 3,
     "metadata": {},
     "output_type": "execute_result"
    }
   ],
   "source": [
    "object"
   ]
  },
  {
   "cell_type": "code",
   "execution_count": 4,
   "id": "137b2dbe-68c0-42cc-80c2-5b09f4911f77",
   "metadata": {},
   "outputs": [
    {
     "data": {
      "text/plain": [
       "'Rubab'"
      ]
     },
     "execution_count": 4,
     "metadata": {},
     "output_type": "execute_result"
    }
   ],
   "source": [
    "object.name"
   ]
  },
  {
   "cell_type": "markdown",
   "id": "86f65b24-725c-4d4e-96ff-616794d87f47",
   "metadata": {},
   "source": [
    "## The properties of the object can be accessed used class_name.property_name"
   ]
  },
  {
   "cell_type": "markdown",
   "id": "0b538c06-e6af-445d-9ff2-1c4b20f3a4c6",
   "metadata": {},
   "source": [
    "## Let us make another object"
   ]
  },
  {
   "cell_type": "code",
   "execution_count": 6,
   "id": "150f6e42-b432-4671-9167-f617de667129",
   "metadata": {},
   "outputs": [],
   "source": [
    "class Shape:\n",
    "    color = \"red\"\n",
    "    corners = 3"
   ]
  },
  {
   "cell_type": "markdown",
   "id": "23614707-d0f9-4111-b8d1-41893fef8572",
   "metadata": {},
   "source": [
    "## It is obvious this shape is triangle"
   ]
  },
  {
   "cell_type": "code",
   "execution_count": 7,
   "id": "b75f1037-16ea-4f9f-87cd-abc174a3007a",
   "metadata": {},
   "outputs": [
    {
     "data": {
      "text/plain": [
       "'red'"
      ]
     },
     "execution_count": 7,
     "metadata": {},
     "output_type": "execute_result"
    }
   ],
   "source": [
    "Shape.color"
   ]
  },
  {
   "cell_type": "code",
   "execution_count": 8,
   "id": "84edff48-0ada-49e9-8bde-d6690a695b49",
   "metadata": {},
   "outputs": [
    {
     "data": {
      "text/plain": [
       "3"
      ]
     },
     "execution_count": 8,
     "metadata": {},
     "output_type": "execute_result"
    }
   ],
   "source": [
    "Shape.corners"
   ]
  },
  {
   "cell_type": "markdown",
   "id": "781d9361-26d0-4c52-b8a3-24b0dddfb16a",
   "metadata": {},
   "source": [
    "## You can observe here that these classes are not really useful in redl life. This is because they are hard coded which means that they have an already set values of properties. Objects in real life are not always the same. SO to create diversity and to make this more dynamic, we will use another appriach. The constructore approach. The constructor is a function that all classes have in built. This function is executed the time when a class is instantiated."
   ]
  },
  {
   "cell_type": "code",
   "execution_count": 10,
   "id": "644627e4-c670-48da-87b9-2c485d14e1e4",
   "metadata": {},
   "outputs": [],
   "source": [
    "class Shape:\n",
    "    def __init__(self, name, age):\n",
    "        self.name = name\n",
    "        self.age = age"
   ]
  },
  {
   "cell_type": "code",
   "execution_count": 11,
   "id": "c3b4b7ef-c769-43e9-b529-4b3d8db3e953",
   "metadata": {},
   "outputs": [],
   "source": [
    "object = Shape('Rubab', 21)"
   ]
  },
  {
   "cell_type": "code",
   "execution_count": 12,
   "id": "001b6f3f-d106-43f6-b4df-1284c5355347",
   "metadata": {},
   "outputs": [
    {
     "data": {
      "text/plain": [
       "<__main__.Shape at 0x229d6f3b920>"
      ]
     },
     "execution_count": 12,
     "metadata": {},
     "output_type": "execute_result"
    }
   ],
   "source": [
    "object"
   ]
  },
  {
   "cell_type": "code",
   "execution_count": 13,
   "id": "e2046573-7cb6-41aa-9ab3-e0e017956ff3",
   "metadata": {},
   "outputs": [
    {
     "data": {
      "text/plain": [
       "'Rubab'"
      ]
     },
     "execution_count": 13,
     "metadata": {},
     "output_type": "execute_result"
    }
   ],
   "source": [
    "object.name"
   ]
  },
  {
   "cell_type": "code",
   "execution_count": 14,
   "id": "e840ea64-2da3-4d9b-a27e-6f82094caf65",
   "metadata": {},
   "outputs": [
    {
     "data": {
      "text/plain": [
       "21"
      ]
     },
     "execution_count": 14,
     "metadata": {},
     "output_type": "execute_result"
    }
   ],
   "source": [
    "object.age"
   ]
  },
  {
   "cell_type": "markdown",
   "id": "134eb202-10d0-4748-b285-0a5849c5d414",
   "metadata": {},
   "source": [
    "## The str() function returns the string representation of the properties of an object. We can write it or omit it. THe following code will tell you the difference"
   ]
  },
  {
   "cell_type": "markdown",
   "id": "7cff91c2-cf62-4bde-b32d-39bfbe791cad",
   "metadata": {},
   "source": [
    "## Without explicityly writing str() function"
   ]
  },
  {
   "cell_type": "code",
   "execution_count": 20,
   "id": "d1a5951e-9d4c-4b82-b0a7-4f8e4fcdea30",
   "metadata": {},
   "outputs": [
    {
     "name": "stdout",
     "output_type": "stream",
     "text": [
      "Rubab(21)\n"
     ]
    }
   ],
   "source": [
    "object"
   ]
  },
  {
   "cell_type": "markdown",
   "id": "c89a6abc-2c40-4e99-bb6a-fc1ede5f676a",
   "metadata": {},
   "source": [
    "## With explicityly writing str() function"
   ]
  },
  {
   "cell_type": "code",
   "execution_count": 16,
   "id": "e6f2857e-4e71-46b8-838a-ffd1f2e98fcb",
   "metadata": {},
   "outputs": [],
   "source": [
    "class Shape:\n",
    "    def __init__(self, name, age):\n",
    "        self.name = name\n",
    "        self.age = age\n",
    "    def __str__(self):\n",
    "        return f\"{self.name}({self.age})\""
   ]
  },
  {
   "cell_type": "code",
   "execution_count": 18,
   "id": "e4e2657e-e562-4d77-852e-45abbe0e1c37",
   "metadata": {},
   "outputs": [],
   "source": [
    "object = Shape('Rubab', 21)"
   ]
  },
  {
   "cell_type": "code",
   "execution_count": 21,
   "id": "2dec2097-8a85-4fe6-86f0-49af30bb8de1",
   "metadata": {},
   "outputs": [
    {
     "name": "stdout",
     "output_type": "stream",
     "text": [
      "Rubab(21)\n"
     ]
    }
   ],
   "source": [
    "print(object)"
   ]
  },
  {
   "cell_type": "code",
   "execution_count": null,
   "id": "96a8e00d-fbc1-424a-b738-365d8083f28d",
   "metadata": {},
   "outputs": [],
   "source": []
  }
 ],
 "metadata": {
  "kernelspec": {
   "display_name": "Python 3 (ipykernel)",
   "language": "python",
   "name": "python3"
  },
  "language_info": {
   "codemirror_mode": {
    "name": "ipython",
    "version": 3
   },
   "file_extension": ".py",
   "mimetype": "text/x-python",
   "name": "python",
   "nbconvert_exporter": "python",
   "pygments_lexer": "ipython3",
   "version": "3.12.4"
  }
 },
 "nbformat": 4,
 "nbformat_minor": 5
}
