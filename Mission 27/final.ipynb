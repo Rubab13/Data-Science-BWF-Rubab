{
 "cells": [
  {
   "cell_type": "code",
   "execution_count": 31,
   "id": "c25d6f4e-d1c2-47cd-98f3-5e79f23ade61",
   "metadata": {},
   "outputs": [],
   "source": [
    "import pandas as pd"
   ]
  },
  {
   "cell_type": "code",
   "execution_count": 32,
   "id": "da887ecb-4872-48c8-8b40-e92c6a353b0d",
   "metadata": {},
   "outputs": [],
   "source": [
    "data = pd.read_csv('traffic-accidents.csv', header = 1)"
   ]
  },
  {
   "cell_type": "code",
   "execution_count": 33,
   "id": "99e990d9-4926-4b71-bf1a-829bcc5424e8",
   "metadata": {},
   "outputs": [
    {
     "data": {
      "text/html": [
       "<div>\n",
       "<style scoped>\n",
       "    .dataframe tbody tr th:only-of-type {\n",
       "        vertical-align: middle;\n",
       "    }\n",
       "\n",
       "    .dataframe tbody tr th {\n",
       "        vertical-align: top;\n",
       "    }\n",
       "\n",
       "    .dataframe thead th {\n",
       "        text-align: right;\n",
       "    }\n",
       "</style>\n",
       "<table border=\"1\" class=\"dataframe\">\n",
       "  <thead>\n",
       "    <tr style=\"text-align: right;\">\n",
       "      <th></th>\n",
       "      <th>Unnamed: 0</th>\n",
       "      <th>Year</th>\n",
       "      <th>Total number of accidents</th>\n",
       "      <th>Fatal Accidents</th>\n",
       "      <th>Non-Fatal Accidents</th>\n",
       "      <th>Killed</th>\n",
       "      <th>Injured</th>\n",
       "      <th>Total number of vehicles involved</th>\n",
       "    </tr>\n",
       "  </thead>\n",
       "  <tbody>\n",
       "    <tr>\n",
       "      <th>0</th>\n",
       "      <td>Pakistan</td>\n",
       "      <td>2008-09</td>\n",
       "      <td>9496</td>\n",
       "      <td>4145</td>\n",
       "      <td>5351</td>\n",
       "      <td>4907</td>\n",
       "      <td>11037</td>\n",
       "      <td>10322</td>\n",
       "    </tr>\n",
       "    <tr>\n",
       "      <th>1</th>\n",
       "      <td>Pakistan</td>\n",
       "      <td>2009-10</td>\n",
       "      <td>9747</td>\n",
       "      <td>4378</td>\n",
       "      <td>5369</td>\n",
       "      <td>5280</td>\n",
       "      <td>11173</td>\n",
       "      <td>10496</td>\n",
       "    </tr>\n",
       "    <tr>\n",
       "      <th>2</th>\n",
       "      <td>Pakistan</td>\n",
       "      <td>2010-11</td>\n",
       "      <td>9723</td>\n",
       "      <td>4280</td>\n",
       "      <td>5443</td>\n",
       "      <td>5271</td>\n",
       "      <td>11383</td>\n",
       "      <td>10822</td>\n",
       "    </tr>\n",
       "    <tr>\n",
       "      <th>3</th>\n",
       "      <td>Pakistan</td>\n",
       "      <td>2011-12</td>\n",
       "      <td>9140</td>\n",
       "      <td>3966</td>\n",
       "      <td>5174</td>\n",
       "      <td>4758</td>\n",
       "      <td>10145</td>\n",
       "      <td>9986</td>\n",
       "    </tr>\n",
       "    <tr>\n",
       "      <th>4</th>\n",
       "      <td>Pakistan</td>\n",
       "      <td>2012-13 *</td>\n",
       "      <td>8988</td>\n",
       "      <td>3884</td>\n",
       "      <td>5104</td>\n",
       "      <td>4719</td>\n",
       "      <td>9710</td>\n",
       "      <td>9876</td>\n",
       "    </tr>\n",
       "  </tbody>\n",
       "</table>\n",
       "</div>"
      ],
      "text/plain": [
       "  Unnamed: 0        Year  Total number of accidents  Fatal Accidents  \\\n",
       "0   Pakistan     2008-09                       9496             4145   \n",
       "1   Pakistan     2009-10                       9747             4378   \n",
       "2   Pakistan     2010-11                       9723             4280   \n",
       "3   Pakistan     2011-12                       9140             3966   \n",
       "4   Pakistan  2012-13 *                        8988             3884   \n",
       "\n",
       "   Non-Fatal Accidents  Killed  Injured  Total number of vehicles involved  \n",
       "0                 5351    4907    11037                              10322  \n",
       "1                 5369    5280    11173                              10496  \n",
       "2                 5443    5271    11383                              10822  \n",
       "3                 5174    4758    10145                               9986  \n",
       "4                 5104    4719     9710                               9876  "
      ]
     },
     "execution_count": 33,
     "metadata": {},
     "output_type": "execute_result"
    }
   ],
   "source": [
    "data.head()"
   ]
  },
  {
   "cell_type": "code",
   "execution_count": 34,
   "id": "bc4bf86c-dad8-448c-8e33-1e8140b2ddd9",
   "metadata": {},
   "outputs": [
    {
     "data": {
      "text/plain": [
       "array(['Pakistan', 'Punjab', 'Sindh', 'Khyber Pakhtunkhwa', 'Balochistan',\n",
       "       'Islamabad'], dtype=object)"
      ]
     },
     "execution_count": 34,
     "metadata": {},
     "output_type": "execute_result"
    }
   ],
   "source": [
    "data['Unnamed: 0'].unique()"
   ]
  },
  {
   "cell_type": "code",
   "execution_count": 35,
   "id": "c5d1275c-d50a-4475-baef-27c37e86c384",
   "metadata": {},
   "outputs": [],
   "source": [
    "data.rename(columns={'Unnamed: 0': 'Location'}, inplace=True)"
   ]
  },
  {
   "cell_type": "code",
   "execution_count": 36,
   "id": "3ec6299e-a458-4f75-8f60-58c121cdeb74",
   "metadata": {},
   "outputs": [
    {
     "data": {
      "text/html": [
       "<div>\n",
       "<style scoped>\n",
       "    .dataframe tbody tr th:only-of-type {\n",
       "        vertical-align: middle;\n",
       "    }\n",
       "\n",
       "    .dataframe tbody tr th {\n",
       "        vertical-align: top;\n",
       "    }\n",
       "\n",
       "    .dataframe thead th {\n",
       "        text-align: right;\n",
       "    }\n",
       "</style>\n",
       "<table border=\"1\" class=\"dataframe\">\n",
       "  <thead>\n",
       "    <tr style=\"text-align: right;\">\n",
       "      <th></th>\n",
       "      <th>Location</th>\n",
       "      <th>Year</th>\n",
       "      <th>Total number of accidents</th>\n",
       "      <th>Fatal Accidents</th>\n",
       "      <th>Non-Fatal Accidents</th>\n",
       "      <th>Killed</th>\n",
       "      <th>Injured</th>\n",
       "      <th>Total number of vehicles involved</th>\n",
       "    </tr>\n",
       "  </thead>\n",
       "  <tbody>\n",
       "    <tr>\n",
       "      <th>0</th>\n",
       "      <td>Pakistan</td>\n",
       "      <td>2008-09</td>\n",
       "      <td>9496</td>\n",
       "      <td>4145</td>\n",
       "      <td>5351</td>\n",
       "      <td>4907</td>\n",
       "      <td>11037</td>\n",
       "      <td>10322</td>\n",
       "    </tr>\n",
       "    <tr>\n",
       "      <th>1</th>\n",
       "      <td>Pakistan</td>\n",
       "      <td>2009-10</td>\n",
       "      <td>9747</td>\n",
       "      <td>4378</td>\n",
       "      <td>5369</td>\n",
       "      <td>5280</td>\n",
       "      <td>11173</td>\n",
       "      <td>10496</td>\n",
       "    </tr>\n",
       "    <tr>\n",
       "      <th>2</th>\n",
       "      <td>Pakistan</td>\n",
       "      <td>2010-11</td>\n",
       "      <td>9723</td>\n",
       "      <td>4280</td>\n",
       "      <td>5443</td>\n",
       "      <td>5271</td>\n",
       "      <td>11383</td>\n",
       "      <td>10822</td>\n",
       "    </tr>\n",
       "    <tr>\n",
       "      <th>3</th>\n",
       "      <td>Pakistan</td>\n",
       "      <td>2011-12</td>\n",
       "      <td>9140</td>\n",
       "      <td>3966</td>\n",
       "      <td>5174</td>\n",
       "      <td>4758</td>\n",
       "      <td>10145</td>\n",
       "      <td>9986</td>\n",
       "    </tr>\n",
       "    <tr>\n",
       "      <th>4</th>\n",
       "      <td>Pakistan</td>\n",
       "      <td>2012-13 *</td>\n",
       "      <td>8988</td>\n",
       "      <td>3884</td>\n",
       "      <td>5104</td>\n",
       "      <td>4719</td>\n",
       "      <td>9710</td>\n",
       "      <td>9876</td>\n",
       "    </tr>\n",
       "  </tbody>\n",
       "</table>\n",
       "</div>"
      ],
      "text/plain": [
       "   Location        Year  Total number of accidents  Fatal Accidents  \\\n",
       "0  Pakistan     2008-09                       9496             4145   \n",
       "1  Pakistan     2009-10                       9747             4378   \n",
       "2  Pakistan     2010-11                       9723             4280   \n",
       "3  Pakistan     2011-12                       9140             3966   \n",
       "4  Pakistan  2012-13 *                        8988             3884   \n",
       "\n",
       "   Non-Fatal Accidents  Killed  Injured  Total number of vehicles involved  \n",
       "0                 5351    4907    11037                              10322  \n",
       "1                 5369    5280    11173                              10496  \n",
       "2                 5443    5271    11383                              10822  \n",
       "3                 5174    4758    10145                               9986  \n",
       "4                 5104    4719     9710                               9876  "
      ]
     },
     "execution_count": 36,
     "metadata": {},
     "output_type": "execute_result"
    }
   ],
   "source": [
    "data.head()"
   ]
  },
  {
   "cell_type": "code",
   "execution_count": 37,
   "id": "67e0b78e-6f9d-4f7b-a0ce-7007cb314148",
   "metadata": {},
   "outputs": [
    {
     "data": {
      "text/plain": [
       "Location                             0\n",
       "Year                                 0\n",
       "Total number of accidents            0\n",
       "Fatal Accidents                      0\n",
       "Non-Fatal Accidents                  0\n",
       "Killed                               0\n",
       "Injured                              0\n",
       "Total number of vehicles involved    0\n",
       "dtype: int64"
      ]
     },
     "execution_count": 37,
     "metadata": {},
     "output_type": "execute_result"
    }
   ],
   "source": [
    "data.isnull().sum()"
   ]
  },
  {
   "cell_type": "code",
   "execution_count": 38,
   "id": "e4693c02-1197-4d34-800e-67c414d275a4",
   "metadata": {},
   "outputs": [
    {
     "data": {
      "text/plain": [
       "0"
      ]
     },
     "execution_count": 38,
     "metadata": {},
     "output_type": "execute_result"
    }
   ],
   "source": [
    "data.duplicated().sum()"
   ]
  },
  {
   "cell_type": "code",
   "execution_count": 39,
   "id": "285887da-0fbc-4856-b4df-90a6891fd3d6",
   "metadata": {},
   "outputs": [
    {
     "data": {
      "text/plain": [
       "Index(['Location', 'Year', 'Total number of accidents', 'Fatal Accidents',\n",
       "       'Non-Fatal Accidents', 'Killed', 'Injured',\n",
       "       'Total number of vehicles involved'],\n",
       "      dtype='object')"
      ]
     },
     "execution_count": 39,
     "metadata": {},
     "output_type": "execute_result"
    }
   ],
   "source": [
    "data.columns"
   ]
  },
  {
   "cell_type": "code",
   "execution_count": 40,
   "id": "be908273-7d9c-4597-af3b-c1e042aa75e7",
   "metadata": {},
   "outputs": [
    {
     "name": "stdout",
     "output_type": "stream",
     "text": [
      "<class 'pandas.core.frame.DataFrame'>\n",
      "RangeIndex: 62 entries, 0 to 61\n",
      "Data columns (total 8 columns):\n",
      " #   Column                             Non-Null Count  Dtype \n",
      "---  ------                             --------------  ----- \n",
      " 0   Location                           62 non-null     object\n",
      " 1   Year                               62 non-null     object\n",
      " 2   Total number of accidents          62 non-null     int64 \n",
      " 3   Fatal Accidents                    62 non-null     int64 \n",
      " 4   Non-Fatal Accidents                62 non-null     int64 \n",
      " 5   Killed                             62 non-null     int64 \n",
      " 6   Injured                            62 non-null     int64 \n",
      " 7   Total number of vehicles involved  62 non-null     int64 \n",
      "dtypes: int64(6), object(2)\n",
      "memory usage: 4.0+ KB\n"
     ]
    }
   ],
   "source": [
    "data.info()"
   ]
  },
  {
   "cell_type": "code",
   "execution_count": 41,
   "id": "434f7142-be25-4acf-bb68-a7b5be36b15d",
   "metadata": {},
   "outputs": [],
   "source": [
    "# Goal: Predict a continuous variable"
   ]
  },
  {
   "cell_type": "code",
   "execution_count": 42,
   "id": "e53da63a-a7ca-4bd7-9804-3a8b52d125cd",
   "metadata": {},
   "outputs": [],
   "source": [
    "X = data[['Fatal Accidents', 'Non-Fatal Accidents', 'Killed', 'Injured', 'Total number of vehicles involved']]\n",
    "y = data['Total number of accidents']"
   ]
  },
  {
   "cell_type": "code",
   "execution_count": 43,
   "id": "88c4b055-563c-4c03-93ac-be7a323185eb",
   "metadata": {},
   "outputs": [],
   "source": [
    "from sklearn.model_selection import train_test_split\n",
    "X_train, X_test, y_train, y_test = train_test_split(X, y, test_size=0.2, random_state=42)"
   ]
  },
  {
   "cell_type": "code",
   "execution_count": 44,
   "id": "77edca10-c9f5-4169-b3a8-cd47e46f420a",
   "metadata": {},
   "outputs": [
    {
     "name": "stdout",
     "output_type": "stream",
     "text": [
      "Mean Squared Error: 7.29134979054752e-23\n",
      "R^2 Score: 1.0\n"
     ]
    }
   ],
   "source": [
    "from sklearn.linear_model import LinearRegression\n",
    "from sklearn.metrics import mean_squared_error, r2_score\n",
    "\n",
    "# Initialize and train the model\n",
    "model = LinearRegression()\n",
    "model.fit(X_train, y_train)\n",
    "\n",
    "# Predict on the test set\n",
    "y_pred = model.predict(X_test)\n",
    "\n",
    "# Evaluate the model\n",
    "print(\"Mean Squared Error:\", mean_squared_error(y_test, y_pred))\n",
    "print(\"R^2 Score:\", r2_score(y_test, y_pred))\n",
    "\n"
   ]
  },
  {
   "cell_type": "code",
   "execution_count": 45,
   "id": "9704aee2-5fd1-4712-b036-221a0b11100c",
   "metadata": {},
   "outputs": [
    {
     "name": "stdout",
     "output_type": "stream",
     "text": [
      "Mean Squared Error: 61635.29649230758\n",
      "R^2 Score: 0.9958965706682696\n"
     ]
    }
   ],
   "source": [
    "from sklearn.ensemble import RandomForestRegressor\n",
    "\n",
    "# Initialize and train the model\n",
    "rf_model = RandomForestRegressor(n_estimators=100, random_state=42)\n",
    "rf_model.fit(X_train, y_train)\n",
    "\n",
    "# Predict on the test set\n",
    "y_rf_pred = rf_model.predict(X_test)\n",
    "\n",
    "# Evaluate the model\n",
    "print(\"Mean Squared Error:\", mean_squared_error(y_test, y_rf_pred))\n",
    "print(\"R^2 Score:\", r2_score(y_test, y_rf_pred))\n"
   ]
  },
  {
   "cell_type": "code",
   "execution_count": 46,
   "id": "133cae42-fd62-448d-b754-d4949b5b629f",
   "metadata": {},
   "outputs": [
    {
     "data": {
      "image/png": "[encoded data removed]",
      "text/plain": [
       "<Figure size 1200x600 with 1 Axes>"
      ]
     },
     "metadata": {},
     "output_type": "display_data"
    },
    {
     "data": {
      "image/png": "[encoded data removed]",
      "text/plain": [
       "<Figure size 1200x600 with 1 Axes>"
      ]
     },
     "metadata": {},
     "output_type": "display_data"
    }
   ],
   "source": [
    "import matplotlib.pyplot as plt\n",
    "\n",
    "# Plot for Linear Regression\n",
    "plt.figure(figsize=(12, 6))\n",
    "plt.scatter(y_test, y_pred, color='blue', label='Linear Regression')\n",
    "plt.xlabel('Actual Values')\n",
    "plt.ylabel('Predicted Values')\n",
    "plt.title('Actual vs Predicted Values (Linear Regression)')\n",
    "plt.legend()\n",
    "plt.show()\n",
    "\n",
    "# Plot for Random Forest Regressor\n",
    "plt.figure(figsize=(12, 6))\n",
    "plt.scatter(y_test, y_rf_pred, color='green', label='Random Forest Regressor')\n",
    "plt.xlabel('Actual Values')\n",
    "plt.ylabel('Predicted Values')\n",
    "plt.title('Actual vs Predicted Values (Random Forest Regressor)')\n",
    "plt.legend()\n",
    "plt.show()\n"
   ]
  },
  {
   "cell_type": "code",
   "execution_count": null,
   "id": "121f8b4c-71d3-43a1-b5de-3531d1574ecf",
   "metadata": {},
   "outputs": [],
   "source": []
  }
 ],
 "metadata": {
  "kernelspec": {
   "display_name": "Python 3 (ipykernel)",
   "language": "python",
   "name": "python3"
  },
  "language_info": {
   "codemirror_mode": {
    "name": "ipython",
    "version": 3
   },
   "file_extension": ".py",
   "mimetype": "text/x-python",
   "name": "python",
   "nbconvert_exporter": "python",
   "pygments_lexer": "ipython3",
   "version": "3.12.4"
  }
 },
 "nbformat": 4,
 "nbformat_minor": 5
}
