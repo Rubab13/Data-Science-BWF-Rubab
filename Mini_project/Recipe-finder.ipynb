{
 "cells": [
  {
   "cell_type": "markdown",
   "id": "fa06551e-6476-42e9-9878-04c0c80a20c7",
   "metadata": {},
   "source": [
    "# Recipe Finder"
   ]
  },
  {
   "cell_type": "code",
   "execution_count": 11,
   "id": "bca6f25a-4071-407d-b1c5-f7d014e9d128",
   "metadata": {},
   "outputs": [],
   "source": [
    "recipes = [\n",
    "    {\n",
    "        \"name\": \"Spaghetti Carbonara\",\n",
    "        \"ingredients\": [\"spaghetti\", \"eggs\", \"Parmesan cheese\", \"bacon\", \"black pepper\", \"salt\"],\n",
    "        \"method\": \"Cook spaghetti. Fry bacon until crispy. Mix eggs and cheese. Combine everything with black pepper and salt.\"\n",
    "    },\n",
    "    {\n",
    "        \"name\": \"Chicken Curry\",\n",
    "        \"ingredients\": [\"chicken\", \"onions\", \"tomatoes\", \"curry powder\", \"coconut milk\", \"garlic\", \"ginger\", \"salt\", \"oil\"],\n",
    "        \"method\": \"Sauté onions, garlic, and ginger. Add chicken and cook until browned. Add tomatoes, curry powder, and coconut milk. Simmer until chicken is cooked.\"\n",
    "    },\n",
    "    {\n",
    "        \"name\": \"Vegetable Stir-Fry\",\n",
    "        \"ingredients\": [\"mixed vegetables\", \"soy sauce\", \"ginger\", \"garlic\", \"oil\", \"salt\", \"pepper\"],\n",
    "        \"method\": \"Heat oil in a pan. Add garlic and ginger. Stir-fry vegetables. Add soy sauce, salt, and pepper. Cook until vegetables are tender.\"\n",
    "    },\n",
    "    {\n",
    "        \"name\": \"Pancakes\",\n",
    "        \"ingredients\": [\"flour\", \"milk\", \"eggs\", \"baking powder\", \"sugar\", \"salt\", \"butter\"],\n",
    "        \"method\": \"Mix dry ingredients. Add milk, eggs, and melted butter. Cook on a griddle until bubbles form, then flip and cook until golden brown.\"\n",
    "    },\n",
    "    {\n",
    "        \"name\": \"Caesar Salad\",\n",
    "        \"ingredients\": [\"romaine lettuce\", \"Caesar dressing\", \"croutons\", \"Parmesan cheese\", \"chicken (optional)\"],\n",
    "        \"method\": \"Toss lettuce with Caesar dressing. Add croutons and Parmesan cheese. Top with grilled chicken if desired.\"\n",
    "    },\n",
    "    {\n",
    "        \"name\": \"Tomato Soup\",\n",
    "        \"ingredients\": [\"tomatoes\", \"onions\", \"garlic\", \"vegetable broth\", \"olive oil\", \"salt\", \"pepper\"],\n",
    "        \"method\": \"Sauté onions and garlic. Add tomatoes and vegetable broth. Simmer until tomatoes are soft. Blend until smooth. Season with salt and pepper.\"\n",
    "    },\n",
    "    {\n",
    "        \"name\": \"Beef Tacos\",\n",
    "        \"ingredients\": [\"ground beef\", \"taco seasoning\", \"taco shells\", \"lettuce\", \"cheese\", \"tomatoes\", \"sour cream\"],\n",
    "        \"method\": \"Cook ground beef with taco seasoning. Fill taco shells with beef and toppings. Serve with lettuce, cheese, tomatoes, and sour cream.\"\n",
    "    },\n",
    "    {\n",
    "        \"name\": \"Margarita Pizza\",\n",
    "        \"ingredients\": [\"pizza dough\", \"tomato sauce\", \"mozzarella cheese\", \"basil leaves\", \"olive oil\"],\n",
    "        \"method\": \"Spread tomato sauce on dough. Top with mozzarella cheese and basil leaves. Bake until crust is golden and cheese is melted.\"\n",
    "    },\n",
    "    {\n",
    "        \"name\": \"Greek Salad\",\n",
    "        \"ingredients\": [\"cucumbers\", \"tomatoes\", \"red onions\", \"feta cheese\", \"olives\", \"olive oil\", \"lemon juice\", \"salt\", \"pepper\"],\n",
    "        \"method\": \"Combine cucumbers, tomatoes, onions, and olives. Top with feta cheese. Drizzle with olive oil and lemon juice. Season with salt and pepper.\"\n",
    "    },\n",
    "    {\n",
    "        \"name\": \"Chocolate Chip Cookies\",\n",
    "        \"ingredients\": [\"flour\", \"butter\", \"sugar\", \"brown sugar\", \"eggs\", \"chocolate chips\", \"baking soda\", \"salt\"],\n",
    "        \"method\": \"Mix butter, sugars, and eggs. Add flour, baking soda, and salt. Stir in chocolate chips. Scoop onto baking sheet and bake until golden brown.\"\n",
    "    },\n",
    "    {\n",
    "        \"name\": \"Lemonade\",\n",
    "        \"ingredients\": [\"lemons\", \"water\", \"sugar\", \"ice\"],\n",
    "        \"method\": \"Juice lemons. Mix lemon juice with water and sugar. Stir until sugar is dissolved. Serve over ice.\"\n",
    "    }\n",
    "]\n"
   ]
  },
  {
   "cell_type": "code",
   "execution_count": 12,
   "id": "0c9f088c-efaa-4daf-9c49-9c5e27fe1ade",
   "metadata": {},
   "outputs": [
    {
     "name": "stdin",
     "output_type": "stream",
     "text": [
      "Enter the name of the recipe you want to search:  abc\n"
     ]
    },
    {
     "name": "stdout",
     "output_type": "stream",
     "text": [
      "The recipe you searched for doesn't exist in our database. We will work hard to bring it online for you. Thank you for your patience and cooperation!!\n"
     ]
    }
   ],
   "source": [
    "name = input(\"Enter the name of the recipe you want to search: \")\n",
    "\n",
    "flag = False\n",
    "list = {}\n",
    "\n",
    "for i in recipes:\n",
    "    if i[\"name\"] == name:\n",
    "        flag = True\n",
    "        list = i\n",
    "\n",
    "if flag == True:\n",
    "    print(\"Recipe Name: \", list[\"name\"])\n",
    "    print(\"Recipe Ingredients: \", list[\"ingredients\"])\n",
    "    print(\"Recipe Method: \", list[\"method\"])\n",
    "else:\n",
    "    print(\"The recipe you searched for doesn't exist in our database. We will work hard to bring it online for you. Thank you for your patience and cooperation!!\")"
   ]
  },
  {
   "cell_type": "markdown",
   "id": "52286934-f01d-4cd9-920d-40cd7cee6255",
   "metadata": {},
   "source": [
    "***"
   ]
  }
 ],
 "metadata": {
  "kernelspec": {
   "display_name": "Python 3 (ipykernel)",
   "language": "python",
   "name": "python3"
  },
  "language_info": {
   "codemirror_mode": {
    "name": "ipython",
    "version": 3
   },
   "file_extension": ".py",
   "mimetype": "text/x-python",
   "name": "python",
   "nbconvert_exporter": "python",
   "pygments_lexer": "ipython3",
   "version": "3.12.4"
  }
 },
 "nbformat": 4,
 "nbformat_minor": 5
}
