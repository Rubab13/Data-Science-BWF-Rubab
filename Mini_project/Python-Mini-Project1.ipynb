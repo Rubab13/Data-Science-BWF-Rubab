{
 "cells": [
  {
   "cell_type": "markdown",
   "id": "d5b2d922-7a27-4d3a-b6d2-1f02d1d1ecea",
   "metadata": {},
   "source": [
    "## Simple Calculator"
   ]
  },
  {
   "cell_type": "code",
   "execution_count": 9,
   "id": "fd28daf2-a036-428d-b1bd-5e13c91f8c20",
   "metadata": {},
   "outputs": [
    {
     "name": "stdin",
     "output_type": "stream",
     "text": [
      "Enter the first number:  1\n",
      "Enter the first number:  2\n",
      "What do you want to perform: \n",
      "1. +\n",
      "2. -\n",
      "3. *\n",
      "4. /\n",
      " 4\n"
     ]
    },
    {
     "name": "stdout",
     "output_type": "stream",
     "text": [
      "The result is  0.5\n"
     ]
    }
   ],
   "source": [
    "num1 = int(input(\"Enter the first number: \"))\n",
    "num2 = int(input(\"Enter the first number: \"))\n",
    "\n",
    "sign = int(input(\"What do you want to perform: \\n1. +\\n2. -\\n3. *\\n4. /\\n\"))\n",
    "\n",
    "if sign == 1:\n",
    "    print(\"The result is \",num1+num2)\n",
    "elif sign == 2:\n",
    "    print(\"The result is \",num1-num2)\n",
    "elif sign == 3:\n",
    "    print(\"The result is \",num1*num2)\n",
    "elif sign == 4 and num2 != 0:\n",
    "    print(\"The result is \",num1/num2)\n",
    "else:\n",
    "    print(\"Invalid input\")"
   ]
  },
  {
   "cell_type": "code",
   "execution_count": null,
   "id": "9b76e615-8451-40e2-9fa7-0528af2adfb9",
   "metadata": {},
   "outputs": [],
   "source": []
  }
 ],
 "metadata": {
  "kernelspec": {
   "display_name": "Python 3 (ipykernel)",
   "language": "python",
   "name": "python3"
  },
  "language_info": {
   "codemirror_mode": {
    "name": "ipython",
    "version": 3
   },
   "file_extension": ".py",
   "mimetype": "text/x-python",
   "name": "python",
   "nbconvert_exporter": "python",
   "pygments_lexer": "ipython3",
   "version": "3.12.4"
  }
 },
 "nbformat": 4,
 "nbformat_minor": 5
}
